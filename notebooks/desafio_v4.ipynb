{
 "cells": [
  {
   "cell_type": "code",
   "execution_count": null,
   "metadata": {},
   "outputs": [],
   "source": [
    "# import libraries\n",
    "import os\n",
    "import numpy as np\n",
    "import pandas as pd\n",
    "import seaborn as sns\n",
    "import matplotlib.pyplot as plt\n",
    "import matplotlib.ticker as mtick"
   ]
  },
  {
   "attachments": {},
   "cell_type": "markdown",
   "metadata": {},
   "source": [
    "# Exploratory Data Analysis (EDA) "
   ]
  },
  {
   "attachments": {},
   "cell_type": "markdown",
   "metadata": {},
   "source": [
    "## Load the data"
   ]
  },
  {
   "cell_type": "code",
   "execution_count": null,
   "metadata": {},
   "outputs": [],
   "source": [
    "# Set paths\n",
    "main_path = os.path.dirname(os.getcwd())\n",
    "data_path = os.path.join(main_path, \"data\")\n",
    "data_name = \"dataset_SCL.csv\"\n",
    "df = pd.read_csv(os.path.join(data_path, data_name))"
   ]
  },
  {
   "attachments": {},
   "cell_type": "markdown",
   "metadata": {},
   "source": [
    "Conclusiones: \n",
    "- Se cargan los datos. \n",
    "- Existen problemas con la columna 1 y 6."
   ]
  },
  {
   "attachments": {},
   "cell_type": "markdown",
   "metadata": {},
   "source": [
    "## Check for missing values"
   ]
  },
  {
   "attachments": {},
   "cell_type": "markdown",
   "metadata": {},
   "source": [
    "### Exploration"
   ]
  },
  {
   "cell_type": "code",
   "execution_count": null,
   "metadata": {},
   "outputs": [],
   "source": [
    "df.isnull().sum()"
   ]
  },
  {
   "attachments": {},
   "cell_type": "markdown",
   "metadata": {},
   "source": [
    "Conclusiones: \n",
    "- Existe solo un valor nulo.\n",
    "\n",
    "Acciones: \n",
    "- Ver que valor es el nulo"
   ]
  },
  {
   "attachments": {},
   "cell_type": "markdown",
   "metadata": {},
   "source": [
    "### Actions"
   ]
  },
  {
   "attachments": {},
   "cell_type": "markdown",
   "metadata": {},
   "source": [
    "Revisamos la fila con valor nulo."
   ]
  },
  {
   "cell_type": "code",
   "execution_count": null,
   "metadata": {},
   "outputs": [],
   "source": [
    "# create a boolean mask for missing values\n",
    "mask = df.isna().any(axis=1)\n",
    "\n",
    "# select the rows with missing values\n",
    "rows_with_missing = df[mask]\n",
    "rows_with_missing"
   ]
  },
  {
   "attachments": {},
   "cell_type": "markdown",
   "metadata": {},
   "source": [
    "Revisamos los posibles valores que puede tomar la columna Vlo-O cuando Vlo-I vale 200."
   ]
  },
  {
   "cell_type": "code",
   "execution_count": null,
   "metadata": {},
   "outputs": [],
   "source": [
    "df[df[\"Vlo-I\"]  == \"200\"][\"Vlo-O\"].value_counts()"
   ]
  },
  {
   "attachments": {},
   "cell_type": "markdown",
   "metadata": {},
   "source": [
    "Dado que es un solo valor (\"200\"), se reemplaza."
   ]
  },
  {
   "cell_type": "code",
   "execution_count": null,
   "metadata": {},
   "outputs": [],
   "source": [
    "# FIll na value with 200\n",
    "df.fillna(\"200\", inplace=True)"
   ]
  },
  {
   "attachments": {},
   "cell_type": "markdown",
   "metadata": {},
   "source": [
    "## Summarize the data"
   ]
  },
  {
   "attachments": {},
   "cell_type": "markdown",
   "metadata": {},
   "source": [
    "### Shape: Explotarion"
   ]
  },
  {
   "cell_type": "code",
   "execution_count": null,
   "metadata": {},
   "outputs": [],
   "source": [
    "df.shape"
   ]
  },
  {
   "attachments": {},
   "cell_type": "markdown",
   "metadata": {},
   "source": [
    "Conclusiones: \n",
    "- Se tienen 68206 y 18 columnas"
   ]
  },
  {
   "attachments": {},
   "cell_type": "markdown",
   "metadata": {},
   "source": [
    "### Column description: Exploration"
   ]
  },
  {
   "cell_type": "code",
   "execution_count": null,
   "metadata": {},
   "outputs": [],
   "source": [
    "df.info()"
   ]
  },
  {
   "attachments": {},
   "cell_type": "markdown",
   "metadata": {},
   "source": [
    "Estas columnas represetan la siguiente información:"
   ]
  },
  {
   "cell_type": "markdown",
   "metadata": {},
   "source": [
    "Section 1: Scheduled information of the flight\n",
    "| Field | Description |\n",
    "| --- | --- |\n",
    "| Fecha-I | Scheduled date and time of the flight. |\n",
    "| Vlo-I | Scheduled flight number. |\n",
    "| Ori-I | Programmed origin city code. |\n",
    "| Des-I | Programmed destination city code. |\n",
    "| Emp-I | Scheduled flight airline code. |\n"
   ]
  },
  {
   "cell_type": "markdown",
   "metadata": {},
   "source": [
    "Section 2: Real operated information of the flight\n",
    "| Field | Description |\n",
    "| --- | --- |\n",
    "| Fecha-O | Date and time of flight operation. |\n",
    "| Vlo-O | Flight operation number of the flight. |\n",
    "| Ori-O | Operation origin city code. |\n",
    "| Des-O | Operation destination city code. |\n",
    "| Emp-O | Airline code of the operated flight. |"
   ]
  },
  {
   "cell_type": "markdown",
   "metadata": {},
   "source": [
    "Section 3: Dates of flight operation\n",
    "| Field | Description |\n",
    "| --- | --- |\n",
    "| DIA | Day of the month of flight operation. |\n",
    "| MES | Number of the month of operation of the flight. |\n",
    "| AÑO | Year of flight operation. |\n",
    "| DIANOM | Day of the week of flight operation. |"
   ]
  },
  {
   "cell_type": "markdown",
   "metadata": {},
   "source": [
    "Section 4: Type of the flight\n",
    "| Field | Description |\n",
    "| --- | --- |\n",
    "| TIPOVUELO | Type of flight, I =International, N =National. |"
   ]
  },
  {
   "cell_type": "markdown",
   "metadata": {},
   "source": [
    "Section 5: Name of codes used in previous sections\n",
    "| Field | Description |\n",
    "| --- | --- |\n",
    "| OPERA | Name of the airline that operates. |\n",
    "| SIGLAORI | Name city of origin. |\n",
    "| SIGLADES | Destination city name. |"
   ]
  },
  {
   "attachments": {},
   "cell_type": "markdown",
   "metadata": {},
   "source": [
    "Conclusiones:\n",
    "- Las variables Fecha-I y Fecha-O denerían tener formato de datetime.\n",
    "- El resto de las variables son categorias (ej:  Un vuelo con un codigo 200, no tiene una unidad menos de algo que un vuelo con codigo 201. Esos numeros solo representan vuelos distintos (distintas categorias). )\n",
    "- Las variables que son numericas se pueden dejar de esa forma por ahora (para efectos de hacer visualizaciones) pero es importante saber que en verdad son cateogoricas."
   ]
  },
  {
   "attachments": {},
   "cell_type": "markdown",
   "metadata": {},
   "source": [
    "Ideas: \n",
    "\n",
    "- Las variables de la seccion 1 pueden ayudar a entender si existen rutas frecuentes, y si esas rutas tienen algun patron particular de retraso (variables necesarias: Vlo-I, Ori-I, Des-I). Además, pueden ayudar a ver si alguna areolinea tiene un comportamiento particular  de retraso (Emp-I).\n",
    "\n",
    "    - Preguntas hasta ahora:\n",
    "        - Para este análisis es mejor considerar lo -I o lo -O?\n",
    "        - Cuanto difiere lo -I de lo -O?\n",
    "\n",
    "- Las variables de la seccion 2 pueden ayudar a entender: que pasa cuando lo planeado -I difiere de lo ejecutado -O. \n",
    "    - Preguntas hasta ahora:\n",
    "        - Para este análisis es mejor considerar lo -I o lo -O? \n",
    "         - Cuanto difiere lo -I de lo -O?\n",
    "\n",
    "\n",
    "- Las variables de la seccion 3 pueden servir para analizar si ciertos patrones estacionarios, por ejemplo estaciones del año, dias de la semana (fin de semana) u otros, afectan a que un vuelo se retrase.\n",
    "- La variable de la seccion 4 puede ayudar a entender si los vuelos nacionales o internaiconales tienen patrones distintos de atraso de vuelos.\n",
    "- Como las variables de seccion 5 son solo el nombre de otros códigos, me interesa guardarlas como diccionarios, dado que probablemente no serán consideradas en el análisis de calculo de probabilidad. \n",
    "    - Observacion: revisé que esa sección corresponde con como operó el vuelo. No con lo scheduled.\n",
    "\n",
    "\n",
    "Otras consideraciones: \n",
    "- Es interesante estudiar tambien la mezcla de algunar variables, por ejemplo: aerolinea y ruta, ruta y temporada, aerolinea y temporada, entra otras. \n",
    "- Es interesante estudiar la frecuencia de retuas y retrasos y otras características/retrasos.\n",
    "Otras variables: Podría el tiempo en santiago influir de manera significante en que un vuelo se retrase?"
   ]
  },
  {
   "attachments": {},
   "cell_type": "markdown",
   "metadata": {},
   "source": [
    "Acciones:\n",
    "- Se transforma las columnas Fecha-I y Fecha-O a datetime."
   ]
  },
  {
   "attachments": {},
   "cell_type": "markdown",
   "metadata": {},
   "source": [
    "### Column description: Actions"
   ]
  },
  {
   "cell_type": "code",
   "execution_count": null,
   "metadata": {},
   "outputs": [],
   "source": [
    "# convert dates to datetime format\n",
    "df[\"Fecha-I\"] = pd.to_datetime(df[\"Fecha-I\"])\n",
    "df[\"Fecha-O\"] = pd.to_datetime(df[\"Fecha-O\"])"
   ]
  },
  {
   "attachments": {},
   "cell_type": "markdown",
   "metadata": {},
   "source": [
    "### Preview of the data: Exploration"
   ]
  },
  {
   "cell_type": "code",
   "execution_count": null,
   "metadata": {},
   "outputs": [],
   "source": [
    "df.head(2)"
   ]
  },
  {
   "cell_type": "code",
   "execution_count": null,
   "metadata": {},
   "outputs": [],
   "source": [
    "df.tail(2)"
   ]
  },
  {
   "attachments": {},
   "cell_type": "markdown",
   "metadata": {},
   "source": [
    "Conclusiones:\n",
    "- Notamos que en la columna Vlo-O, existen valores que estan como float y como string. Esta columna debe ser str, dado que se trata de una categoria  (ej:  Un vuelo con un codigo 200, no tiene una unidad menos de algo que un vuelo con codigo 201. Esos numeros solo representan vuelos distintos).\n",
    "\n",
    "Acciones:\n",
    "- Se soluciona el tema anterior."
   ]
  },
  {
   "attachments": {},
   "cell_type": "markdown",
   "metadata": {},
   "source": [
    "### Preview of the data: Action"
   ]
  },
  {
   "cell_type": "code",
   "execution_count": null,
   "metadata": {},
   "outputs": [],
   "source": [
    "# Check if float values are not in type XX.0\n",
    "for value in df[\"Vlo-I\"].unique():\n",
    "    if isinstance(value, float):\n",
    "        if not int(value) == value:\n",
    "            print(value)"
   ]
  },
  {
   "cell_type": "code",
   "execution_count": null,
   "metadata": {},
   "outputs": [],
   "source": [
    "# Check if float values are not in type XX.0\n",
    "for value in df[\"Vlo-O\"].unique():\n",
    "    if isinstance(value, float):\n",
    "        if not int(value) == value:\n",
    "            print(value)"
   ]
  },
  {
   "cell_type": "code",
   "execution_count": null,
   "metadata": {},
   "outputs": [],
   "source": [
    "# Conver to int and then to str just the float values\n",
    "def float_to_str(x):\n",
    "    try:\n",
    "        return str(int(float(x)))\n",
    "    except:\n",
    "        return x\n",
    "    # if type(x) == type(2.) and not np.isnan(x):\n",
    "    #     return str(int(x))\n",
    "    # return x\n",
    "\n",
    "df[\"Vlo-I\"] = df[\"Vlo-I\"].apply(lambda x: float_to_str(x))\n",
    "df[\"Vlo-O\"] = df[\"Vlo-O\"].apply(lambda x: float_to_str(x))\n",
    "df[\"Vlo-I\"] = df[\"Vlo-I\"].astype(str)\n",
    "df[\"Vlo-O\"] = df[\"Vlo-O\"].astype(str)"
   ]
  },
  {
   "attachments": {},
   "cell_type": "markdown",
   "metadata": {},
   "source": [
    "## Pre  Analysis: Check differences between -I (scheduled) and -O (operated).\n",
    "Check some variables before further exploration"
   ]
  },
  {
   "attachments": {},
   "cell_type": "markdown",
   "metadata": {},
   "source": [
    "### Question: From where the flights departue?"
   ]
  },
  {
   "cell_type": "code",
   "execution_count": null,
   "metadata": {},
   "outputs": [],
   "source": [
    "departures_I, departures_O = df[\"Ori-I\"].value_counts(), df[\"Ori-O\"].value_counts()\n",
    "departures_I, departures_O"
   ]
  },
  {
   "attachments": {},
   "cell_type": "markdown",
   "metadata": {},
   "source": [
    "### Answer: Los vuelos solo despegan desde SCEL, por lo que estas columnas no agregan ninguna información."
   ]
  },
  {
   "attachments": {},
   "cell_type": "markdown",
   "metadata": {},
   "source": [
    "Acciones: \n",
    "- Se eliminan dichas columnas"
   ]
  },
  {
   "cell_type": "code",
   "execution_count": null,
   "metadata": {},
   "outputs": [],
   "source": [
    "df.drop([\"Ori-I\", \"Ori-O\", \"SIGLAORI\"], inplace = True, axis = 1)"
   ]
  },
  {
   "attachments": {},
   "cell_type": "markdown",
   "metadata": {},
   "source": [
    "### Question: Donde van los vuelos? Is there any difference between Vlo-I and Vlo-O?"
   ]
  },
  {
   "cell_type": "code",
   "execution_count": null,
   "metadata": {},
   "outputs": [],
   "source": [
    "departures_I = df[\"Des-I\"].value_counts()\n",
    "departures_I"
   ]
  },
  {
   "cell_type": "code",
   "execution_count": null,
   "metadata": {},
   "outputs": [],
   "source": [
    "departures_O = df[\"Des-O\"].value_counts()\n",
    "departures_O"
   ]
  },
  {
   "attachments": {},
   "cell_type": "markdown",
   "metadata": {},
   "source": [
    "Cuantas veces estos valores son iguales?"
   ]
  },
  {
   "cell_type": "code",
   "execution_count": null,
   "metadata": {},
   "outputs": [],
   "source": [
    "len(df[df[\"Des-I\"] == df[\"Des-O\"]])/(len(df))"
   ]
  },
  {
   "attachments": {},
   "cell_type": "markdown",
   "metadata": {},
   "source": [
    "Son iguales en el 99% de los casos."
   ]
  },
  {
   "attachments": {},
   "cell_type": "markdown",
   "metadata": {},
   "source": [
    "Cuando no osn iguales?"
   ]
  },
  {
   "cell_type": "code",
   "execution_count": null,
   "metadata": {},
   "outputs": [],
   "source": [
    "mask = df[\"Des-I\"] != df[\"Des-O\"]\n",
    "df[mask].head(n=10)"
   ]
  },
  {
   "attachments": {},
   "cell_type": "markdown",
   "metadata": {},
   "source": [
    "Conclusiones:\n",
    "- Existen variados destinos.\n",
    "- Des-I es igual a Des-O en el 99% de los casos."
   ]
  },
  {
   "attachments": {},
   "cell_type": "markdown",
   "metadata": {},
   "source": [
    "### Answer: Existen 63 destinos a los que los vuelos llegan. Se trabaja con Des-O."
   ]
  },
  {
   "cell_type": "code",
   "execution_count": null,
   "metadata": {},
   "outputs": [],
   "source": [
    "df.drop([\"Des-I\"], axis=1, inplace=True)"
   ]
  },
  {
   "attachments": {},
   "cell_type": "markdown",
   "metadata": {},
   "source": [
    "### Question: Is Vlo-I, Vlo-O usedful?"
   ]
  },
  {
   "cell_type": "code",
   "execution_count": null,
   "metadata": {},
   "outputs": [],
   "source": [
    "# Check how many times are those variables equal\n",
    "np.sum(df[\"Vlo-I\"] == df[\"Vlo-O\"])/len(df)"
   ]
  },
  {
   "cell_type": "code",
   "execution_count": null,
   "metadata": {},
   "outputs": [],
   "source": [
    "# Check when they are not equal\n",
    "mask = df[\"Vlo-I\"] != df[\"Vlo-O\"]\n",
    "df[mask].head(n=10)"
   ]
  },
  {
   "attachments": {},
   "cell_type": "markdown",
   "metadata": {},
   "source": [
    "Conclusion:\n",
    "- They are equal in a 99.8% of the cases. It seems that is not important which of those variables describe the airline that operates. Now those variables are just the code of the airline that operates the flight, the name is in the OPERA columns.\n",
    "- As Vlo-O have the name of the airline that actually operate the flight, this variable is more useful.\n",
    "- Ademas, si bien cambia el numero de vuelo, en general el destino y la empresa operadora se mantiene constate."
   ]
  },
  {
   "attachments": {},
   "cell_type": "markdown",
   "metadata": {},
   "source": [
    "Acciones:\n",
    "- Se elimina la variabre Vlo-I, dado que no es util."
   ]
  },
  {
   "cell_type": "code",
   "execution_count": null,
   "metadata": {},
   "outputs": [],
   "source": [
    "df.drop([\"Vlo-I\"], axis = 1, inplace = True)"
   ]
  },
  {
   "attachments": {},
   "cell_type": "markdown",
   "metadata": {},
   "source": [
    "Se analiza la variable Vlo-O"
   ]
  },
  {
   "cell_type": "code",
   "execution_count": null,
   "metadata": {},
   "outputs": [],
   "source": [
    "# Group the data\n",
    "grouped_df = df.groupby(['Vlo-O'])['Des-O'].unique()\n",
    "multi_values = [grouped_df.index[i] for i in range(len(grouped_df)) if len(grouped_df[i]) > 1]\n",
    "result = grouped_df.loc[multi_values]\n",
    "result"
   ]
  },
  {
   "cell_type": "code",
   "execution_count": null,
   "metadata": {},
   "outputs": [],
   "source": [
    "# Group the data\n",
    "grouped_df = df.groupby(['Vlo-O'])['OPERA'].unique()\n",
    "multi_values = [grouped_df.index[i] for i in range(len(grouped_df)) if len(grouped_df[i]) > 1]\n",
    "result = grouped_df.loc[multi_values]\n",
    "result"
   ]
  },
  {
   "attachments": {},
   "cell_type": "markdown",
   "metadata": {},
   "source": [
    "Conclusion:\n",
    "- Uno número de vuelo se utiliza en varios casos para solo un destino, por lo que tendría alta correlacion con el destino de un vuelo, prefiero utilizar destino.\n",
    "- Un número de vuelo puede pertenecer a más de una aerolinea. Dado que este es un problema de negocios, es interesante analizar como cada aerolinea se relaciona con una tasa de retraso, por lo que decide no utilizar esta columna.\n",
    "- No se utilizara Vlo-O."
   ]
  },
  {
   "attachments": {},
   "cell_type": "markdown",
   "metadata": {},
   "source": [
    "### Answer: None of those variables is useful."
   ]
  },
  {
   "cell_type": "code",
   "execution_count": null,
   "metadata": {},
   "outputs": [],
   "source": [
    "df.drop([\"Vlo-O\"], axis = 1, inplace = True)"
   ]
  },
  {
   "attachments": {},
   "cell_type": "markdown",
   "metadata": {},
   "source": [
    "### Question: How Emp-I, Emp-O and Opera are related? Which one(S) to keep?"
   ]
  },
  {
   "attachments": {},
   "cell_type": "markdown",
   "metadata": {},
   "source": [
    "Are they equal all the time?"
   ]
  },
  {
   "cell_type": "code",
   "execution_count": null,
   "metadata": {},
   "outputs": [],
   "source": [
    "# Check how many times are those variables equal\n",
    "np.sum(df[\"Emp-I\"] == df[\"Emp-O\"])/len(df)"
   ]
  },
  {
   "attachments": {},
   "cell_type": "markdown",
   "metadata": {},
   "source": [
    "No, just in 72% of the cases."
   ]
  },
  {
   "attachments": {},
   "cell_type": "markdown",
   "metadata": {},
   "source": [
    "Each EMP-O has an unique OPERA?"
   ]
  },
  {
   "cell_type": "code",
   "execution_count": null,
   "metadata": {},
   "outputs": [],
   "source": [
    "opera_Emp_dict = {opera: df.loc[df['OPERA'] == opera, 'Emp-O'].unique().tolist() for opera in df['OPERA'].unique()}\n",
    "opera_Emp_dict"
   ]
  },
  {
   "cell_type": "markdown",
   "metadata": {},
   "source": [
    "No, and actually all the Emp-O are in a unique claster of OPERA. Except for ['ARG', 'AUT'], que estan en 'Aerolineas Argentinas' y 'Austral'."
   ]
  },
  {
   "cell_type": "code",
   "execution_count": null,
   "metadata": {},
   "outputs": [],
   "source": [
    "mask = df[\"Emp-I\"] != df[\"Emp-O\"]\n",
    "df[mask][[\"Emp-I\",\"Emp-O\", \"OPERA\"]].value_counts()"
   ]
  },
  {
   "attachments": {},
   "cell_type": "markdown",
   "metadata": {},
   "source": [
    "Conclusion:\n",
    "- Notamos que en casi todos los casos, cueando EMP-I es distinto a EMP-O, el mismo OPERADOR se mantiene.\n",
    "\n",
    "Excepciones:\n",
    "- LAW no estaba en el diccionario, revisando en internet (ademas es claro), es parte de Latin American Wings.\n",
    "- QFU y QFA son la unica diferencia, ya que no se tiene informacion de QFU. En internet no aparece QFU, pero dado la similitud de nombres, se asume que sigue siende Qantes Airways.\n",
    "- Se decide que quien realmente opera los vuelos es OPERA, por ende se trabaja con esta columna."
   ]
  },
  {
   "attachments": {},
   "cell_type": "markdown",
   "metadata": {},
   "source": [
    "### Answer: Se decide que quien realmente opera los vuelos es OPERA, por ende se trabaja con esta columna."
   ]
  },
  {
   "attachments": {},
   "cell_type": "markdown",
   "metadata": {},
   "source": [
    "Acciones:\n",
    "- Se elimina Emp-I y Emp-O"
   ]
  },
  {
   "cell_type": "code",
   "execution_count": null,
   "metadata": {},
   "outputs": [],
   "source": [
    "# df.drop([\"Emp-I\", \"Emp-O\"], axis=1, inplace=True)"
   ]
  },
  {
   "cell_type": "code",
   "execution_count": null,
   "metadata": {},
   "outputs": [],
   "source": [
    "df.columns"
   ]
  },
  {
   "attachments": {},
   "cell_type": "markdown",
   "metadata": {},
   "source": [
    "## Data Exploration"
   ]
  },
  {
   "cell_type": "code",
   "execution_count": null,
   "metadata": {},
   "outputs": [],
   "source": [
    "df.columns"
   ]
  },
  {
   "attachments": {},
   "cell_type": "markdown",
   "metadata": {},
   "source": [
    "### Numeric variables distributions"
   ]
  },
  {
   "cell_type": "code",
   "execution_count": null,
   "metadata": {},
   "outputs": [],
   "source": [
    "df.describe()"
   ]
  },
  {
   "cell_type": "code",
   "execution_count": null,
   "metadata": {},
   "outputs": [],
   "source": [
    "fig, ax = plt.subplots(1, 4, figsize=(14, 2))\n",
    "\n",
    "ax[0].hist(df['DIA'], bins=31, color='red')\n",
    "ax[0].set_xlabel('DIA')\n",
    "ax[0].set_ylabel('Frequency')\n",
    "\n",
    "ax[1].hist(df['MES'], bins=12, color='green')\n",
    "ax[1].set_xlabel('MES')\n",
    "ax[1].set_ylabel('Frequency')\n",
    "\n",
    "ax[2].hist(df['AÑO'], bins=2, color='blue')\n",
    "ax[2].set_xlabel('AÑO')\n",
    "ax[2].set_ylabel('Frequency')\n",
    "\n",
    "ax[3].hist(df['DIANOM'], bins=7, color='blue')\n",
    "ax[3].set_xlabel('DIANOM')\n",
    "ax[3].set_ylabel('Frequency')\n",
    "\n",
    "plt.show()"
   ]
  },
  {
   "cell_type": "markdown",
   "metadata": {},
   "source": [
    "Conclusiones:\n",
    "- A primera vista no se ve nada raro con estas variables. Los días, meses, años y dianom estan en un rango adecuado. No se ven los datos centrados en algun valor en particular.\n",
    "- Los datos son mayormente del 2017, a excepcion de dos vuelos que pasaron justo de la media noche del ultimo dia del 2017. (por retrasos)"
   ]
  },
  {
   "attachments": {},
   "cell_type": "markdown",
   "metadata": {},
   "source": [
    "### Categoric variables distributions"
   ]
  },
  {
   "cell_type": "code",
   "execution_count": null,
   "metadata": {},
   "outputs": [],
   "source": [
    "df.columns"
   ]
  },
  {
   "cell_type": "code",
   "execution_count": null,
   "metadata": {},
   "outputs": [],
   "source": [
    "def distribution_cat_variables(variable):\n",
    "    # Group the data by airline and count the number of flights for each airline\n",
    "    airline_counts = df[variable].value_counts()\n",
    "\n",
    "    # Normalize the values to show proportions\n",
    "    airline_proportions = airline_counts / airline_counts.sum()\n",
    "\n",
    "    # Create a bar graph of airline market share\n",
    "    plt.figure(figsize=(10, 2))\n",
    "    airline_proportions.plot(kind='bar',cmap='viridis')\n",
    "    plt.title(f'Number of flights by {variable}')\n",
    "    plt.xlabel(f'{variable}')\n",
    "    plt.ylabel('Proportion of Flights')\n",
    "    plt.show()"
   ]
  },
  {
   "cell_type": "code",
   "execution_count": null,
   "metadata": {},
   "outputs": [],
   "source": [
    "distribution_cat_variables('Des-O')"
   ]
  },
  {
   "cell_type": "code",
   "execution_count": null,
   "metadata": {},
   "outputs": [],
   "source": [
    "distribution_cat_variables('TIPOVUELO')"
   ]
  },
  {
   "cell_type": "code",
   "execution_count": null,
   "metadata": {},
   "outputs": [],
   "source": [
    "distribution_cat_variables('OPERA')"
   ]
  },
  {
   "attachments": {},
   "cell_type": "markdown",
   "metadata": {},
   "source": [
    "### Time variables"
   ]
  },
  {
   "cell_type": "code",
   "execution_count": null,
   "metadata": {},
   "outputs": [],
   "source": [
    "# Group the data by month and flight type and count the number of flights for each group\n",
    "month_type_counts = df.groupby(['MES', 'TIPOVUELO']).size().unstack()\n",
    "\n",
    "# Create a line chart of number of flights by month and flight type\n",
    "ax = month_type_counts.plot(kind='line', figsize=(5, 3))\n",
    "ax.set_title('Number of Flights by Month and Flight Type')\n",
    "ax.set_xlabel('Month')\n",
    "ax.set_ylabel('Number of Flights')\n",
    "plt.show()"
   ]
  },
  {
   "cell_type": "markdown",
   "metadata": {},
   "source": [
    "Conclusiones:\n",
    "- La estacionalidad de vuelos naciones e internacionales es la misma."
   ]
  },
  {
   "cell_type": "code",
   "execution_count": null,
   "metadata": {},
   "outputs": [],
   "source": [
    "# Resample the data to daily frequency and calculate the rolling mean with a window size of 7 days\n",
    "daily_counts = df.set_index('Fecha-I').resample('D').size()\n",
    "rolling_mean = daily_counts.rolling(window=30).mean()\n",
    "\n",
    "# Plot the daily flight counts and the rolling mean\n",
    "fig, ax = plt.subplots(figsize=(10, 6))\n",
    "ax.plot(daily_counts.index, daily_counts.values, label='Daily counts')\n",
    "ax.plot(rolling_mean.index, rolling_mean.values, label='7-day rolling mean')\n",
    "ax.legend()\n",
    "\n",
    "# Calculate and plot the trendline\n",
    "x = np.arange(len(daily_counts))\n",
    "coeffs = np.polyfit(x, daily_counts, 1)\n",
    "trendline = np.poly1d(coeffs)\n",
    "ax.plot(daily_counts.index, trendline(x), label='Trendline', linestyle='--')\n",
    "ax.legend()\n",
    "\n",
    "ax.set_title('Number of Flights per Day')\n",
    "ax.set_xlabel('Date')\n",
    "ax.set_ylabel('Number of Flights')\n",
    "plt.show()"
   ]
  },
  {
   "cell_type": "markdown",
   "metadata": {},
   "source": [
    "Conclusiones:\n",
    "- Notamos que hay dos peak en la demanda de vuelos\n",
    "- Un peak puede relacionarse con las vacaciones de invierno en Chile (finales de Julio - principios de Agosto)\n",
    "- El otro peak puede relacionarse con las vacaciones de verano en Chile (finales de Noviembre - principios de Marzo)"
   ]
  },
  {
   "attachments": {},
   "cell_type": "markdown",
   "metadata": {},
   "source": [
    "# Generate additional columns"
   ]
  },
  {
   "attachments": {},
   "cell_type": "markdown",
   "metadata": {},
   "source": [
    "Se generan las siguientes columnas. Notemos que las siguientes columnas solo dependen de la información relativa a un vuelo, lo que es importante, ya que no generaran \"Data leakage\". Hay que tener eso en cuenta al generar variables que utilicen información historica."
   ]
  },
  {
   "attachments": {},
   "cell_type": "markdown",
   "metadata": {},
   "source": [
    "## high_season\n",
    "1 if Date-I is between Dec-15 and Mar-3, or Jul-15 and Jul-31, or Sep-11 and Sep-30, 0 otherwise."
   ]
  },
  {
   "cell_type": "code",
   "execution_count": null,
   "metadata": {},
   "outputs": [],
   "source": [
    "df[\"high_season\"] = (\n",
    "      ((df['Fecha-I'].dt.month == 12) & (df['Fecha-I'].dt.day >= 15)) | \n",
    "      (df['Fecha-I'].dt.month == 1) | \n",
    "      (df['Fecha-I'].dt.month == 2) | \n",
    "      ((df['Fecha-I'].dt.month == 3) & (df['Fecha-I'].dt.day <= 3)) | \n",
    "      ((df['Fecha-I'].dt.month == 7) & (df['Fecha-I'].dt.day >= 15) & (df['Fecha-I'].dt.day <= 31)) | \n",
    "      ((df['Fecha-I'].dt.month == 9) & (df['Fecha-I'].dt.day >= 11) & (df['Fecha-I'].dt.day <= 30))\n",
    "   ).astype(int)"
   ]
  },
  {
   "attachments": {},
   "cell_type": "markdown",
   "metadata": {},
   "source": [
    "## min_diff\n",
    "difference in minutes between Date-O and Date-I ."
   ]
  },
  {
   "cell_type": "code",
   "execution_count": null,
   "metadata": {},
   "outputs": [],
   "source": [
    "df['min_diff'] = df.apply(lambda x: (x['Fecha-O'] - x['Fecha-I']).total_seconds() / 60, axis=1)"
   ]
  },
  {
   "attachments": {},
   "cell_type": "markdown",
   "metadata": {},
   "source": [
    "## delay_15\n",
    "1 if min_diff > 15, 0 if not."
   ]
  },
  {
   "cell_type": "code",
   "execution_count": null,
   "metadata": {},
   "outputs": [],
   "source": [
    "df['delay_15'] = (df['min_diff'] > 15).astype(int)"
   ]
  },
  {
   "attachments": {},
   "cell_type": "markdown",
   "metadata": {},
   "source": [
    "## period_day\n",
    "morning (between 5:00 and 11:59), afternoon (between 12:00 and 18:59) and night (between 19:00 and 4:59), based on Date-I ."
   ]
  },
  {
   "cell_type": "code",
   "execution_count": null,
   "metadata": {},
   "outputs": [],
   "source": [
    "# Create the period_day variable\n",
    "df.loc[(df['Fecha-I'].dt.hour >= 5) & (df['Fecha-I'].dt.hour < 12), 'period_day'] = 'morning'\n",
    "df.loc[(df['Fecha-I'].dt.hour >= 12) & (df['Fecha-I'].dt.hour < 19), 'period_day'] = 'afternoon'\n",
    "df.loc[((df['Fecha-I'].dt.hour >= 19) & (df['Fecha-I'].dt.hour <= 23)) | ((df['Fecha-I'].dt.hour >= 0) & (df['Fecha-I'].dt.hour < 5)), 'period_day'] = 'night'"
   ]
  },
  {
   "attachments": {},
   "cell_type": "markdown",
   "metadata": {},
   "source": [
    "## Guardar en .CSV"
   ]
  },
  {
   "cell_type": "code",
   "execution_count": null,
   "metadata": {},
   "outputs": [],
   "source": [
    "df[[\"high_season\", \"min_diff\", \"delay_15\", \"period_day\"]].to_csv(os.path.join(data_path, \"synthetic_features.csv\"))"
   ]
  },
  {
   "cell_type": "markdown",
   "metadata": {},
   "source": [
    "# 3. Behavior of the delay rate across destination, airline, month of the year, day of the week, season, type of flight."
   ]
  },
  {
   "cell_type": "markdown",
   "metadata": {},
   "source": [
    "## Q : What variables would you expect to have the most influence in predicting delays?"
   ]
  },
  {
   "cell_type": "markdown",
   "metadata": {},
   "source": [
    "### 3.1.1.  Delay rate across destination"
   ]
  },
  {
   "cell_type": "code",
   "execution_count": null,
   "metadata": {},
   "outputs": [],
   "source": [
    "# Calculate delay rate by destination\n",
    "delay_rate = df.groupby('Des-O')['delay_15'].mean().sort_values(ascending=False)\n",
    "\n",
    "# Calculate mean delay rate\n",
    "mean_delay_rate = df['delay_15'].mean()\n",
    "\n",
    "# Create barplot\n",
    "fig, ax = plt.subplots(figsize=(14, 3))\n",
    "sns.barplot(x=delay_rate.index, y=delay_rate.values, ax=ax, color='cornflowerblue')\n",
    "\n",
    "# Add mean line\n",
    "ax.axhline(mean_delay_rate, color='crimson', linestyle='--', linewidth=2, label='Mean Delay Rate')\n",
    "\n",
    "# Set labels and titles\n",
    "ax.set_xlabel('Destination', fontsize=14)\n",
    "ax.set_ylabel('Delay Rate', fontsize=14)\n",
    "ax.set_title('Delay Rate Across Destination', fontsize=18)\n",
    "ax.tick_params(axis='x', labelrotation=70)\n",
    "ax.legend(fontsize=12)\n",
    "\n",
    "# Add values on top of each bar\n",
    "for i in ax.containers:\n",
    "    ax.bar_label(i, label_type='edge', labels=[f\"{x:.2f}\" for x in i.datavalues], fontsize=5, padding=8)\n",
    "\n",
    "plt.show()"
   ]
  },
  {
   "cell_type": "code",
   "execution_count": null,
   "metadata": {},
   "outputs": [],
   "source": [
    "# Calculate delay rate and count of flights by destination\n",
    "delay_rate = df.groupby('Des-O')['delay_15'].mean().sort_values(ascending=False)\n",
    "flight_count = df['Des-O'].value_counts().sort_index()\n",
    "\n",
    "# Calculate mean delay rate\n",
    "mean_delay_rate = df['delay_15'].mean()\n",
    "\n",
    "# Create barplot\n",
    "fig, ax = plt.subplots(figsize=(14, 5))\n",
    "\n",
    "ax.bar(delay_rate.index, delay_rate.values, color='cornflowerblue', width=0.4, label='Delay Rate')\n",
    "ax2 = ax.twinx()\n",
    "ax2.bar(flight_count.index, flight_count.values, color='lightgreen', width=0.4, label='Count of Flights')\n",
    "\n",
    "# Add mean line\n",
    "ax.axhline(mean_delay_rate, color='crimson', linestyle='--', linewidth=2, label='Mean Delay Rate')\n",
    "\n",
    "# Set labels and titles\n",
    "ax.set_xlabel('Destination', fontsize=14)\n",
    "ax.set_ylabel('Delay Rate', fontsize=14)\n",
    "ax2.set_ylabel('Count of Flights', fontsize=14)\n",
    "ax.set_title('Delay Rate and Count of Flights Across Destination', fontsize=18)\n",
    "ax.tick_params(axis='x', labelrotation=70)\n",
    "\n",
    "ax.legend(loc='upper right', fontsize=10, bbox_to_anchor=(1, 1.2))\n",
    "ax2.legend(loc='upper left', fontsize=10, bbox_to_anchor=(0, 1.2))\n",
    "\n",
    "# Add values on top of each bar\n",
    "for i, v in enumerate(delay_rate.values):\n",
    "    ax.text(i - 0.2, v + 0.01, f'{v:.2f}', fontsize=8)\n",
    "for i, v in enumerate(flight_count.values):\n",
    "    ax2.text(i + 0.2, v + 50, str(v), fontsize=8)\n",
    "\n",
    "plt.show()"
   ]
  },
  {
   "attachments": {},
   "cell_type": "markdown",
   "metadata": {},
   "source": [
    "Conclusiones:\n",
    "- Notamos que hay destinos con un delay rate mucho más alta que otros.\n",
    "- Se ve que tambien hay destinos con delay rate 1 o 0. Es interesante notar que algunos de estos destinos tienen más de 100 vuelos. \n",
    "- Tambien hay algunos destinos con una tasa sobre el promedio, pero que tienen una baja cantidad de vuelos.\n",
    "\n",
    "\n",
    "Es interesante incorporar esta variable al modelo. Se puede incorporar de dos maneras:\n",
    "- Como una variable categorica (aunque sean muchas variables de este estilo)\n",
    "- Como una variable númerica utilizando data historica (Delay_rate_per_airline)\n",
    "- Seriea interesante ver si se puede combinar con la variable cantidad de vuelos"
   ]
  },
  {
   "cell_type": "markdown",
   "metadata": {},
   "source": [
    "### 3.1.1.  Delay rate across airline"
   ]
  },
  {
   "cell_type": "code",
   "execution_count": null,
   "metadata": {},
   "outputs": [],
   "source": [
    "# Calculate delay rate by airline\n",
    "airline_delay_rate = df.groupby('Emp-O')['delay_15'].mean().sort_values(ascending=False)\n",
    "\n",
    "# Calculate mean delay rate\n",
    "mean_delay_rate = df['delay_15'].mean()\n",
    "\n",
    "# Create barplot\n",
    "fig, ax = plt.subplots(figsize=(14, 3))\n",
    "sns.barplot(x=airline_delay_rate.index, y=airline_delay_rate.values, ax=ax, color='cornflowerblue')\n",
    "\n",
    "# Add mean line\n",
    "ax.axhline(mean_delay_rate, color='crimson', linestyle='--', linewidth=2, label='Mean Delay Rate')\n",
    "\n",
    "# Set labels and titles\n",
    "ax.set_xlabel('Airline', fontsize=14)\n",
    "ax.set_ylabel('Delay Rate', fontsize=14)\n",
    "ax.set_title('Delay Rate Across Airlines', fontsize=18)\n",
    "ax.tick_params(axis='x', labelrotation=45)\n",
    "ax.legend(fontsize=12)\n",
    "\n",
    "# Add values on top of each bar\n",
    "for i in ax.containers:\n",
    "    ax.bar_label(i, label_type='edge', labels=[f\"{x:.2f}\" for x in i.datavalues], fontsize=8, padding=8)\n",
    "\n",
    "plt.show()"
   ]
  },
  {
   "cell_type": "code",
   "execution_count": null,
   "metadata": {},
   "outputs": [],
   "source": [
    "# Calculate delay rate and count of flights by employee responsible for delay\n",
    "delay_rate = df.groupby('Emp-O')['delay_15'].mean().sort_values(ascending=False)\n",
    "flight_count = df['Emp-O'].value_counts().sort_index()\n",
    "\n",
    "# Calculate mean delay rate\n",
    "mean_delay_rate = df['delay_15'].mean()\n",
    "\n",
    "# Create barplot\n",
    "fig, ax = plt.subplots(figsize=(14, 5))\n",
    "\n",
    "ax.bar(delay_rate.index, delay_rate.values, color='cornflowerblue', width=0.4, label='Delay Rate')\n",
    "ax2 = ax.twinx()\n",
    "ax2.bar(flight_count.index, flight_count.values, color='lightgreen', width=0.4, label='Count of Flights')\n",
    "\n",
    "# Add mean line\n",
    "ax.axhline(mean_delay_rate, color='crimson', linestyle='--', linewidth=2, label='Mean Delay Rate')\n",
    "\n",
    "# Set labels and titles\n",
    "ax.set_xlabel('Employee Responsible for Delay', fontsize=14)\n",
    "ax.set_ylabel('Delay Rate', fontsize=14)\n",
    "ax2.set_ylabel('Count of Flights', fontsize=14)\n",
    "ax.set_title('Delay Rate and Count of Flights by Employee Responsible for Delay', fontsize=18)\n",
    "ax.tick_params(axis='x', labelrotation=70)\n",
    "ax.legend(loc='upper left', fontsize=12)\n",
    "ax2.legend(loc='upper right', fontsize=12)\n",
    "\n",
    "# Add values on top of each bar\n",
    "for i, v in enumerate(delay_rate.values):\n",
    "    ax.text(i - 0.2, v + 0.01, f'{v:.2f}', fontsize=8)\n",
    "for i, v in enumerate(flight_count.values):\n",
    "    ax2.text(i + 0.2, v + 50, str(v), fontsize=8)\n",
    "\n",
    "plt.show()"
   ]
  },
  {
   "cell_type": "code",
   "execution_count": null,
   "metadata": {},
   "outputs": [],
   "source": [
    "# Calculate delay rate and count of flights by employee responsible for delay\n",
    "delay_rate = df.groupby('OPERA')['delay_15'].mean().sort_values(ascending=False)\n",
    "flight_count = df['OPERA'].value_counts().sort_index()\n",
    "\n",
    "# Calculate mean delay rate\n",
    "mean_delay_rate = df['delay_15'].mean()\n",
    "\n",
    "# Create barplot\n",
    "fig, ax = plt.subplots(figsize=(14, 5))\n",
    "\n",
    "ax.bar(delay_rate.index, delay_rate.values, color='cornflowerblue', width=0.4, label='Delay Rate')\n",
    "ax2 = ax.twinx()\n",
    "ax2.bar(flight_count.index, flight_count.values, color='lightgreen', width=0.4, label='Count of Flights')\n",
    "\n",
    "# Add mean line\n",
    "ax.axhline(mean_delay_rate, color='crimson', linestyle='--', linewidth=2, label='Mean Delay Rate')\n",
    "\n",
    "# Set labels and titles\n",
    "ax.set_xlabel('Employee Responsible for Delay', fontsize=14)\n",
    "ax.set_ylabel('Delay Rate', fontsize=14)\n",
    "ax2.set_ylabel('Count of Flights', fontsize=14)\n",
    "ax.set_title('Delay Rate and Count of Flights by Employee Responsible for Delay', fontsize=18)\n",
    "ax.tick_params(axis='x', labelrotation=70)\n",
    "ax.legend(loc='upper left', fontsize=12)\n",
    "ax2.legend(loc='upper right', fontsize=12)\n",
    "\n",
    "# Add values on top of each bar\n",
    "for i, v in enumerate(delay_rate.values):\n",
    "    ax.text(i - 0.2, v + 0.01, f'{v:.2f}', fontsize=8)\n",
    "for i, v in enumerate(flight_count.values):\n",
    "    ax2.text(i + 0.2, v + 50, str(v), fontsize=8)\n",
    "\n",
    "plt.show()"
   ]
  },
  {
   "cell_type": "markdown",
   "metadata": {},
   "source": [
    "### 3.1.1.  Delay rate across day of the week"
   ]
  },
  {
   "cell_type": "code",
   "execution_count": null,
   "metadata": {},
   "outputs": [],
   "source": [
    "# Calculate delay rate by day of the week\n",
    "delay_rate_dow = df.groupby('DIANOM')['delay_15'].mean().sort_values(ascending=False)\n",
    "\n",
    "# Calculate mean delay rate\n",
    "mean_delay_rate = df['delay_15'].mean()\n",
    "\n",
    "# Create barplot\n",
    "fig, ax = plt.subplots(figsize=(10, 6))\n",
    "order = ['Lunes', 'Martes', 'Miercoles', 'Jueves', 'Viernes', 'Sabado', 'Domingo']\n",
    "sns.barplot(x=delay_rate_dow.index, y=delay_rate_dow.values, ax=ax, color='cornflowerblue', order = order)\n",
    "\n",
    "# Add mean line\n",
    "ax.axhline(mean_delay_rate, color='crimson', linestyle='--', linewidth=2, label='Mean Delay Rate')\n",
    "\n",
    "# Set labels and titles\n",
    "ax.set_xlabel('Day of the Week', fontsize=14)\n",
    "ax.set_ylabel('Delay Rate', fontsize=14)\n",
    "ax.set_title('Delay Rate Across Day of the Week', fontsize=18)\n",
    "ax.tick_params(axis='x', labelrotation=45)\n",
    "ax.legend(fontsize=12)\n",
    "\n",
    "# Add values on top of each bar\n",
    "for i in ax.containers:\n",
    "    ax.bar_label(i, label_type='edge', labels=[f\"{x:.2f}\" for x in i.datavalues], fontsize=10, padding=-11)\n",
    "\n",
    "plt.show()\n"
   ]
  },
  {
   "cell_type": "markdown",
   "metadata": {},
   "source": [
    "### 3.1.1.  Delay rate across month"
   ]
  },
  {
   "cell_type": "code",
   "execution_count": null,
   "metadata": {},
   "outputs": [],
   "source": [
    "# Calculate delay rate by month\n",
    "delay_rate_month = df.groupby('MES')['delay_15'].mean().sort_values(ascending=False)\n",
    "\n",
    "# Calculate mean delay rate\n",
    "mean_delay_rate = df['delay_15'].mean()\n",
    "\n",
    "# Create barplot\n",
    "fig, ax = plt.subplots(figsize=(14, 3))\n",
    "sns.barplot(x=delay_rate_month.index, y=delay_rate_month.values, ax=ax, color='cornflowerblue')\n",
    "\n",
    "# Add mean line\n",
    "ax.axhline(mean_delay_rate, color='crimson', linestyle='--', linewidth=2, label='Mean Delay Rate')\n",
    "\n",
    "# Set labels and titles\n",
    "ax.set_xlabel('Month', fontsize=14)\n",
    "ax.set_ylabel('Delay Rate', fontsize=14)\n",
    "ax.set_title('Delay Rate Across Month', fontsize=18)\n",
    "ax.tick_params(axis='x', labelrotation=45)\n",
    "ax.legend(fontsize=12)\n",
    "\n",
    "# Add values on top of each bar\n",
    "for i in ax.containers:\n",
    "    ax.bar_label(i, label_type='edge', labels=[f\"{x:.2f}\" for x in i.datavalues], fontsize=10, padding=-11)\n",
    "\n",
    "plt.show()"
   ]
  },
  {
   "cell_type": "markdown",
   "metadata": {},
   "source": [
    "### 3.1.1.  Delay rate across season"
   ]
  },
  {
   "cell_type": "code",
   "execution_count": null,
   "metadata": {},
   "outputs": [],
   "source": [
    "# Calculate delay rate by high_season\n",
    "delay_rate_season = df.groupby('high_season')['delay_15'].mean().sort_values(ascending=False)\n",
    "\n",
    "# Calculate mean delay rate\n",
    "mean_delay_rate = df['delay_15'].mean()\n",
    "\n",
    "# Create barplot\n",
    "fig, ax = plt.subplots(figsize=(3, 3))\n",
    "sns.barplot(x=delay_rate_season.index, y=delay_rate_season.values, ax=ax, color='cornflowerblue')\n",
    "\n",
    "# Add mean line\n",
    "ax.axhline(mean_delay_rate, color='crimson', linestyle='--', linewidth=2, label='Mean Delay Rate')\n",
    "\n",
    "# Set labels and titles\n",
    "ax.set_xlabel('High Season', fontsize=14)\n",
    "ax.set_ylabel('Delay Rate', fontsize=14)\n",
    "ax.set_title('Delay Rate Across Season', fontsize=18)\n",
    "ax.tick_params(axis='x', labelrotation=45)\n",
    "ax.legend(fontsize=12)\n",
    "\n",
    "# Add values on top of each bar\n",
    "for i in ax.containers:\n",
    "    ax.bar_label(i, label_type='edge', labels=[f\"{x:.2f}\" for x in i.datavalues], fontsize=10, padding=-11)\n",
    "\n",
    "plt.show()"
   ]
  },
  {
   "cell_type": "markdown",
   "metadata": {},
   "source": [
    "### 3.1.1.  Delay rate across  type of flight"
   ]
  },
  {
   "cell_type": "code",
   "execution_count": null,
   "metadata": {},
   "outputs": [],
   "source": [
    "# Calculate delay rate by high_season\n",
    "delay_rate_type_flight = df.groupby('TIPOVUELO')['delay_15'].mean().sort_values(ascending=False)\n",
    "\n",
    "# Calculate mean delay rate\n",
    "mean_delay_rate = df['delay_15'].mean()\n",
    "\n",
    "# Create barplot\n",
    "fig, ax = plt.subplots(figsize=(3, 3))\n",
    "sns.barplot(x=delay_rate_type_flight.index, y=delay_rate_type_flight.values, ax=ax, color='cornflowerblue')\n",
    "\n",
    "# Add mean line\n",
    "ax.axhline(mean_delay_rate, color='crimson', linestyle='--', linewidth=2, label='Mean Delay Rate')\n",
    "\n",
    "# Set labels and titles\n",
    "ax.set_xlabel('Type of Flight', fontsize=14)\n",
    "ax.set_ylabel('Delay Rate', fontsize=14)\n",
    "ax.set_title('Delay Rate Across Type of Flight', fontsize=18)\n",
    "ax.tick_params(axis='x', labelrotation=45)\n",
    "ax.legend(fontsize=12)\n",
    "\n",
    "# Add values on top of each bar\n",
    "for i in ax.containers:\n",
    "    ax.bar_label(i, label_type='edge', labels=[f\"{x:.2f}\" for x in i.datavalues], fontsize=10, padding=-11)\n",
    "\n",
    "\n",
    "plt.show()"
   ]
  },
  {
   "cell_type": "markdown",
   "metadata": {},
   "source": [
    "# 4"
   ]
  }
 ],
 "metadata": {
  "kernelspec": {
   "display_name": ".desafio_latam_venv",
   "language": "python",
   "name": "python3"
  },
  "language_info": {
   "codemirror_mode": {
    "name": "ipython",
    "version": 3
   },
   "file_extension": ".py",
   "mimetype": "text/x-python",
   "name": "python",
   "nbconvert_exporter": "python",
   "pygments_lexer": "ipython3",
   "version": "3.10.6"
  },
  "orig_nbformat": 4
 },
 "nbformat": 4,
 "nbformat_minor": 2
}
